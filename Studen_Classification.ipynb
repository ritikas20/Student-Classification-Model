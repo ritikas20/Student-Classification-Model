{
  "cells": [
    {
      "cell_type": "code",
      "execution_count": null,
      "metadata": {
        "id": "pYXlxDRsVZql"
      },
      "outputs": [],
      "source": [
        "import pandas as pd\n",
        "import os"
      ]
    },
    {
      "cell_type": "code",
      "execution_count": null,
      "metadata": {
        "id": "EkUWEejoCzug"
      },
      "outputs": [],
      "source": [
        "file_path = '/content/feedback-mech-data.xlsx'\n",
        "xlsx_data = pd.read_excel(file_path, sheet_name='MAS102-23')"
      ]
    },
    {
      "cell_type": "code",
      "execution_count": null,
      "metadata": {
        "colab": {
          "base_uri": "https://localhost:8080/",
          "height": 542
        },
        "id": "jKqz-pC3WKIa",
        "outputId": "97b45306-9fac-4e13-df7e-6698be99850d"
      },
      "outputs": [
        {
          "output_type": "execute_result",
          "data": {
            "text/plain": [
              "  Ozone 1 (H/M/L/NJ) Ozone 2 (H/M/L/NJ) Eligible Companies > 5 (Yes/No)  \\\n",
              "0                  M                  H                             Yes   \n",
              "1                 NJ                  L       No (2,3 consultancy firm)   \n",
              "2                  L                  L                              No   \n",
              "3                  L                  L                             Yes   \n",
              "4                  H                  H                             Yes   \n",
              "\n",
              "                                    Ozones 2 Remarks  College Name  \\\n",
              "0        Aware, good in tech, doing two tech interns  NIT Agartala   \n",
              "1                          No progress, only excuses        LSR DU   \n",
              "2                  Going through problems, motivated  NIT Durgapur   \n",
              "3  No Ozone scheduled, Top level in test, Zero pr...  NIT Agartala   \n",
              "4         Smart, good at communication, doing intern         NMIMS   \n",
              "\n",
              "  College (Pivot)   Course Course (Pivot)                  Branch/Department  \\\n",
              "0    NIT Agartala   B.Tech      Bachelors                  Civil Engineering   \n",
              "1          LSR DU    B.Sc.      Bachelors              Statistics Department   \n",
              "2    NIT Durgapur  Masters        Masters                        Mathematics   \n",
              "3    NIT Agartala   B.Tech      Bachelors  Mechanical Engineering Department   \n",
              "4          Others   B.Tech      Bachelors               Computer Engineering   \n",
              "\n",
              "  Analytics/Consultancy/DS  ... Cases/guestimates experince? PORs  \\\n",
              "0                       DS  ...                           No  Yes   \n",
              "1                       DS  ...                           No  Yes   \n",
              "2                       DS  ...                           No   No   \n",
              "3                Analytics  ...                           no  yes   \n",
              "4                Analytics  ...                           no  yes   \n",
              "\n",
              "  Prepared Resume CGPA? CAT/MBA/GMAT Prep Communication skills rating  \\\n",
              "0             yes  8.81                no                         8.0   \n",
              "1             yes  8.71                No                         5.0   \n",
              "2             yes   6.5                No                         8.0   \n",
              "3             yes   NaN                No                         4.0   \n",
              "4             yes  3.94                No                         8.0   \n",
              "\n",
              "  Test rating Tech Rating Overall Rating Ozone 1       Ozones 1 Remarks  \n",
              "0           4           6                      7          good Student-  \n",
              "1           3           4                      4  Need to improve a lot  \n",
              "2           4           8                      5                    NaN  \n",
              "3           2           1                      2  Need to improve a lot  \n",
              "4           8           7                      8      Very good student  \n",
              "\n",
              "[5 rows x 27 columns]"
            ],
            "text/html": [
              "\n",
              "  <div id=\"df-b778fe0c-f1c0-4e55-b0e3-cedd1b1f09e2\">\n",
              "    <div class=\"colab-df-container\">\n",
              "      <div>\n",
              "<style scoped>\n",
              "    .dataframe tbody tr th:only-of-type {\n",
              "        vertical-align: middle;\n",
              "    }\n",
              "\n",
              "    .dataframe tbody tr th {\n",
              "        vertical-align: top;\n",
              "    }\n",
              "\n",
              "    .dataframe thead th {\n",
              "        text-align: right;\n",
              "    }\n",
              "</style>\n",
              "<table border=\"1\" class=\"dataframe\">\n",
              "  <thead>\n",
              "    <tr style=\"text-align: right;\">\n",
              "      <th></th>\n",
              "      <th>Ozone 1 (H/M/L/NJ)</th>\n",
              "      <th>Ozone 2 (H/M/L/NJ)</th>\n",
              "      <th>Eligible Companies &gt; 5 (Yes/No)</th>\n",
              "      <th>Ozones 2 Remarks</th>\n",
              "      <th>College Name</th>\n",
              "      <th>College (Pivot)</th>\n",
              "      <th>Course</th>\n",
              "      <th>Course (Pivot)</th>\n",
              "      <th>Branch/Department</th>\n",
              "      <th>Analytics/Consultancy/DS</th>\n",
              "      <th>...</th>\n",
              "      <th>Cases/guestimates experince?</th>\n",
              "      <th>PORs</th>\n",
              "      <th>Prepared Resume</th>\n",
              "      <th>CGPA?</th>\n",
              "      <th>CAT/MBA/GMAT Prep</th>\n",
              "      <th>Communication skills rating</th>\n",
              "      <th>Test rating</th>\n",
              "      <th>Tech Rating</th>\n",
              "      <th>Overall Rating Ozone 1</th>\n",
              "      <th>Ozones 1 Remarks</th>\n",
              "    </tr>\n",
              "  </thead>\n",
              "  <tbody>\n",
              "    <tr>\n",
              "      <th>0</th>\n",
              "      <td>M</td>\n",
              "      <td>H</td>\n",
              "      <td>Yes</td>\n",
              "      <td>Aware, good in tech, doing two tech interns</td>\n",
              "      <td>NIT Agartala</td>\n",
              "      <td>NIT Agartala</td>\n",
              "      <td>B.Tech</td>\n",
              "      <td>Bachelors</td>\n",
              "      <td>Civil Engineering</td>\n",
              "      <td>DS</td>\n",
              "      <td>...</td>\n",
              "      <td>No</td>\n",
              "      <td>Yes</td>\n",
              "      <td>yes</td>\n",
              "      <td>8.81</td>\n",
              "      <td>no</td>\n",
              "      <td>8.0</td>\n",
              "      <td>4</td>\n",
              "      <td>6</td>\n",
              "      <td>7</td>\n",
              "      <td>good Student-</td>\n",
              "    </tr>\n",
              "    <tr>\n",
              "      <th>1</th>\n",
              "      <td>NJ</td>\n",
              "      <td>L</td>\n",
              "      <td>No (2,3 consultancy firm)</td>\n",
              "      <td>No progress, only excuses</td>\n",
              "      <td>LSR DU</td>\n",
              "      <td>LSR DU</td>\n",
              "      <td>B.Sc.</td>\n",
              "      <td>Bachelors</td>\n",
              "      <td>Statistics Department</td>\n",
              "      <td>DS</td>\n",
              "      <td>...</td>\n",
              "      <td>No</td>\n",
              "      <td>Yes</td>\n",
              "      <td>yes</td>\n",
              "      <td>8.71</td>\n",
              "      <td>No</td>\n",
              "      <td>5.0</td>\n",
              "      <td>3</td>\n",
              "      <td>4</td>\n",
              "      <td>4</td>\n",
              "      <td>Need to improve a lot</td>\n",
              "    </tr>\n",
              "    <tr>\n",
              "      <th>2</th>\n",
              "      <td>L</td>\n",
              "      <td>L</td>\n",
              "      <td>No</td>\n",
              "      <td>Going through problems, motivated</td>\n",
              "      <td>NIT Durgapur</td>\n",
              "      <td>NIT Durgapur</td>\n",
              "      <td>Masters</td>\n",
              "      <td>Masters</td>\n",
              "      <td>Mathematics</td>\n",
              "      <td>DS</td>\n",
              "      <td>...</td>\n",
              "      <td>No</td>\n",
              "      <td>No</td>\n",
              "      <td>yes</td>\n",
              "      <td>6.5</td>\n",
              "      <td>No</td>\n",
              "      <td>8.0</td>\n",
              "      <td>4</td>\n",
              "      <td>8</td>\n",
              "      <td>5</td>\n",
              "      <td>NaN</td>\n",
              "    </tr>\n",
              "    <tr>\n",
              "      <th>3</th>\n",
              "      <td>L</td>\n",
              "      <td>L</td>\n",
              "      <td>Yes</td>\n",
              "      <td>No Ozone scheduled, Top level in test, Zero pr...</td>\n",
              "      <td>NIT Agartala</td>\n",
              "      <td>NIT Agartala</td>\n",
              "      <td>B.Tech</td>\n",
              "      <td>Bachelors</td>\n",
              "      <td>Mechanical Engineering Department</td>\n",
              "      <td>Analytics</td>\n",
              "      <td>...</td>\n",
              "      <td>no</td>\n",
              "      <td>yes</td>\n",
              "      <td>yes</td>\n",
              "      <td>NaN</td>\n",
              "      <td>No</td>\n",
              "      <td>4.0</td>\n",
              "      <td>2</td>\n",
              "      <td>1</td>\n",
              "      <td>2</td>\n",
              "      <td>Need to improve a lot</td>\n",
              "    </tr>\n",
              "    <tr>\n",
              "      <th>4</th>\n",
              "      <td>H</td>\n",
              "      <td>H</td>\n",
              "      <td>Yes</td>\n",
              "      <td>Smart, good at communication, doing intern</td>\n",
              "      <td>NMIMS</td>\n",
              "      <td>Others</td>\n",
              "      <td>B.Tech</td>\n",
              "      <td>Bachelors</td>\n",
              "      <td>Computer Engineering</td>\n",
              "      <td>Analytics</td>\n",
              "      <td>...</td>\n",
              "      <td>no</td>\n",
              "      <td>yes</td>\n",
              "      <td>yes</td>\n",
              "      <td>3.94</td>\n",
              "      <td>No</td>\n",
              "      <td>8.0</td>\n",
              "      <td>8</td>\n",
              "      <td>7</td>\n",
              "      <td>8</td>\n",
              "      <td>Very good student</td>\n",
              "    </tr>\n",
              "  </tbody>\n",
              "</table>\n",
              "<p>5 rows × 27 columns</p>\n",
              "</div>\n",
              "      <button class=\"colab-df-convert\" onclick=\"convertToInteractive('df-b778fe0c-f1c0-4e55-b0e3-cedd1b1f09e2')\"\n",
              "              title=\"Convert this dataframe to an interactive table.\"\n",
              "              style=\"display:none;\">\n",
              "        \n",
              "  <svg xmlns=\"http://www.w3.org/2000/svg\" height=\"24px\"viewBox=\"0 0 24 24\"\n",
              "       width=\"24px\">\n",
              "    <path d=\"M0 0h24v24H0V0z\" fill=\"none\"/>\n",
              "    <path d=\"M18.56 5.44l.94 2.06.94-2.06 2.06-.94-2.06-.94-.94-2.06-.94 2.06-2.06.94zm-11 1L8.5 8.5l.94-2.06 2.06-.94-2.06-.94L8.5 2.5l-.94 2.06-2.06.94zm10 10l.94 2.06.94-2.06 2.06-.94-2.06-.94-.94-2.06-.94 2.06-2.06.94z\"/><path d=\"M17.41 7.96l-1.37-1.37c-.4-.4-.92-.59-1.43-.59-.52 0-1.04.2-1.43.59L10.3 9.45l-7.72 7.72c-.78.78-.78 2.05 0 2.83L4 21.41c.39.39.9.59 1.41.59.51 0 1.02-.2 1.41-.59l7.78-7.78 2.81-2.81c.8-.78.8-2.07 0-2.86zM5.41 20L4 18.59l7.72-7.72 1.47 1.35L5.41 20z\"/>\n",
              "  </svg>\n",
              "      </button>\n",
              "      \n",
              "  <style>\n",
              "    .colab-df-container {\n",
              "      display:flex;\n",
              "      flex-wrap:wrap;\n",
              "      gap: 12px;\n",
              "    }\n",
              "\n",
              "    .colab-df-convert {\n",
              "      background-color: #E8F0FE;\n",
              "      border: none;\n",
              "      border-radius: 50%;\n",
              "      cursor: pointer;\n",
              "      display: none;\n",
              "      fill: #1967D2;\n",
              "      height: 32px;\n",
              "      padding: 0 0 0 0;\n",
              "      width: 32px;\n",
              "    }\n",
              "\n",
              "    .colab-df-convert:hover {\n",
              "      background-color: #E2EBFA;\n",
              "      box-shadow: 0px 1px 2px rgba(60, 64, 67, 0.3), 0px 1px 3px 1px rgba(60, 64, 67, 0.15);\n",
              "      fill: #174EA6;\n",
              "    }\n",
              "\n",
              "    [theme=dark] .colab-df-convert {\n",
              "      background-color: #3B4455;\n",
              "      fill: #D2E3FC;\n",
              "    }\n",
              "\n",
              "    [theme=dark] .colab-df-convert:hover {\n",
              "      background-color: #434B5C;\n",
              "      box-shadow: 0px 1px 3px 1px rgba(0, 0, 0, 0.15);\n",
              "      filter: drop-shadow(0px 1px 2px rgba(0, 0, 0, 0.3));\n",
              "      fill: #FFFFFF;\n",
              "    }\n",
              "  </style>\n",
              "\n",
              "      <script>\n",
              "        const buttonEl =\n",
              "          document.querySelector('#df-b778fe0c-f1c0-4e55-b0e3-cedd1b1f09e2 button.colab-df-convert');\n",
              "        buttonEl.style.display =\n",
              "          google.colab.kernel.accessAllowed ? 'block' : 'none';\n",
              "\n",
              "        async function convertToInteractive(key) {\n",
              "          const element = document.querySelector('#df-b778fe0c-f1c0-4e55-b0e3-cedd1b1f09e2');\n",
              "          const dataTable =\n",
              "            await google.colab.kernel.invokeFunction('convertToInteractive',\n",
              "                                                     [key], {});\n",
              "          if (!dataTable) return;\n",
              "\n",
              "          const docLinkHtml = 'Like what you see? Visit the ' +\n",
              "            '<a target=\"_blank\" href=https://colab.research.google.com/notebooks/data_table.ipynb>data table notebook</a>'\n",
              "            + ' to learn more about interactive tables.';\n",
              "          element.innerHTML = '';\n",
              "          dataTable['output_type'] = 'display_data';\n",
              "          await google.colab.output.renderOutput(dataTable, element);\n",
              "          const docLink = document.createElement('div');\n",
              "          docLink.innerHTML = docLinkHtml;\n",
              "          element.appendChild(docLink);\n",
              "        }\n",
              "      </script>\n",
              "    </div>\n",
              "  </div>\n",
              "  "
            ]
          },
          "metadata": {},
          "execution_count": 20
        }
      ],
      "source": [
        "xlsx_data.head()  # Display the first few rows of the loaded sheet"
      ]
    },
    {
      "cell_type": "code",
      "execution_count": null,
      "metadata": {
        "colab": {
          "base_uri": "https://localhost:8080/",
          "height": 300
        },
        "id": "zactHu25WMAi",
        "outputId": "e0e4b239-4521-4458-d4de-b124a5fc00b1"
      },
      "outputs": [
        {
          "output_type": "execute_result",
          "data": {
            "text/plain": [
              "       Communication skills rating\n",
              "count                    94.000000\n",
              "mean                      4.031915\n",
              "std                       1.770135\n",
              "min                       1.000000\n",
              "25%                       3.000000\n",
              "50%                       3.500000\n",
              "75%                       4.000000\n",
              "max                       9.000000"
            ],
            "text/html": [
              "\n",
              "  <div id=\"df-7db7934a-c781-48f9-b713-114db1e21bc4\">\n",
              "    <div class=\"colab-df-container\">\n",
              "      <div>\n",
              "<style scoped>\n",
              "    .dataframe tbody tr th:only-of-type {\n",
              "        vertical-align: middle;\n",
              "    }\n",
              "\n",
              "    .dataframe tbody tr th {\n",
              "        vertical-align: top;\n",
              "    }\n",
              "\n",
              "    .dataframe thead th {\n",
              "        text-align: right;\n",
              "    }\n",
              "</style>\n",
              "<table border=\"1\" class=\"dataframe\">\n",
              "  <thead>\n",
              "    <tr style=\"text-align: right;\">\n",
              "      <th></th>\n",
              "      <th>Communication skills rating</th>\n",
              "    </tr>\n",
              "  </thead>\n",
              "  <tbody>\n",
              "    <tr>\n",
              "      <th>count</th>\n",
              "      <td>94.000000</td>\n",
              "    </tr>\n",
              "    <tr>\n",
              "      <th>mean</th>\n",
              "      <td>4.031915</td>\n",
              "    </tr>\n",
              "    <tr>\n",
              "      <th>std</th>\n",
              "      <td>1.770135</td>\n",
              "    </tr>\n",
              "    <tr>\n",
              "      <th>min</th>\n",
              "      <td>1.000000</td>\n",
              "    </tr>\n",
              "    <tr>\n",
              "      <th>25%</th>\n",
              "      <td>3.000000</td>\n",
              "    </tr>\n",
              "    <tr>\n",
              "      <th>50%</th>\n",
              "      <td>3.500000</td>\n",
              "    </tr>\n",
              "    <tr>\n",
              "      <th>75%</th>\n",
              "      <td>4.000000</td>\n",
              "    </tr>\n",
              "    <tr>\n",
              "      <th>max</th>\n",
              "      <td>9.000000</td>\n",
              "    </tr>\n",
              "  </tbody>\n",
              "</table>\n",
              "</div>\n",
              "      <button class=\"colab-df-convert\" onclick=\"convertToInteractive('df-7db7934a-c781-48f9-b713-114db1e21bc4')\"\n",
              "              title=\"Convert this dataframe to an interactive table.\"\n",
              "              style=\"display:none;\">\n",
              "        \n",
              "  <svg xmlns=\"http://www.w3.org/2000/svg\" height=\"24px\"viewBox=\"0 0 24 24\"\n",
              "       width=\"24px\">\n",
              "    <path d=\"M0 0h24v24H0V0z\" fill=\"none\"/>\n",
              "    <path d=\"M18.56 5.44l.94 2.06.94-2.06 2.06-.94-2.06-.94-.94-2.06-.94 2.06-2.06.94zm-11 1L8.5 8.5l.94-2.06 2.06-.94-2.06-.94L8.5 2.5l-.94 2.06-2.06.94zm10 10l.94 2.06.94-2.06 2.06-.94-2.06-.94-.94-2.06-.94 2.06-2.06.94z\"/><path d=\"M17.41 7.96l-1.37-1.37c-.4-.4-.92-.59-1.43-.59-.52 0-1.04.2-1.43.59L10.3 9.45l-7.72 7.72c-.78.78-.78 2.05 0 2.83L4 21.41c.39.39.9.59 1.41.59.51 0 1.02-.2 1.41-.59l7.78-7.78 2.81-2.81c.8-.78.8-2.07 0-2.86zM5.41 20L4 18.59l7.72-7.72 1.47 1.35L5.41 20z\"/>\n",
              "  </svg>\n",
              "      </button>\n",
              "      \n",
              "  <style>\n",
              "    .colab-df-container {\n",
              "      display:flex;\n",
              "      flex-wrap:wrap;\n",
              "      gap: 12px;\n",
              "    }\n",
              "\n",
              "    .colab-df-convert {\n",
              "      background-color: #E8F0FE;\n",
              "      border: none;\n",
              "      border-radius: 50%;\n",
              "      cursor: pointer;\n",
              "      display: none;\n",
              "      fill: #1967D2;\n",
              "      height: 32px;\n",
              "      padding: 0 0 0 0;\n",
              "      width: 32px;\n",
              "    }\n",
              "\n",
              "    .colab-df-convert:hover {\n",
              "      background-color: #E2EBFA;\n",
              "      box-shadow: 0px 1px 2px rgba(60, 64, 67, 0.3), 0px 1px 3px 1px rgba(60, 64, 67, 0.15);\n",
              "      fill: #174EA6;\n",
              "    }\n",
              "\n",
              "    [theme=dark] .colab-df-convert {\n",
              "      background-color: #3B4455;\n",
              "      fill: #D2E3FC;\n",
              "    }\n",
              "\n",
              "    [theme=dark] .colab-df-convert:hover {\n",
              "      background-color: #434B5C;\n",
              "      box-shadow: 0px 1px 3px 1px rgba(0, 0, 0, 0.15);\n",
              "      filter: drop-shadow(0px 1px 2px rgba(0, 0, 0, 0.3));\n",
              "      fill: #FFFFFF;\n",
              "    }\n",
              "  </style>\n",
              "\n",
              "      <script>\n",
              "        const buttonEl =\n",
              "          document.querySelector('#df-7db7934a-c781-48f9-b713-114db1e21bc4 button.colab-df-convert');\n",
              "        buttonEl.style.display =\n",
              "          google.colab.kernel.accessAllowed ? 'block' : 'none';\n",
              "\n",
              "        async function convertToInteractive(key) {\n",
              "          const element = document.querySelector('#df-7db7934a-c781-48f9-b713-114db1e21bc4');\n",
              "          const dataTable =\n",
              "            await google.colab.kernel.invokeFunction('convertToInteractive',\n",
              "                                                     [key], {});\n",
              "          if (!dataTable) return;\n",
              "\n",
              "          const docLinkHtml = 'Like what you see? Visit the ' +\n",
              "            '<a target=\"_blank\" href=https://colab.research.google.com/notebooks/data_table.ipynb>data table notebook</a>'\n",
              "            + ' to learn more about interactive tables.';\n",
              "          element.innerHTML = '';\n",
              "          dataTable['output_type'] = 'display_data';\n",
              "          await google.colab.output.renderOutput(dataTable, element);\n",
              "          const docLink = document.createElement('div');\n",
              "          docLink.innerHTML = docLinkHtml;\n",
              "          element.appendChild(docLink);\n",
              "        }\n",
              "      </script>\n",
              "    </div>\n",
              "  </div>\n",
              "  "
            ]
          },
          "metadata": {},
          "execution_count": 21
        }
      ],
      "source": [
        "xlsx_data.describe()"
      ]
    },
    {
      "cell_type": "code",
      "execution_count": null,
      "metadata": {
        "colab": {
          "base_uri": "https://localhost:8080/"
        },
        "id": "SV_ABICkWUJf",
        "outputId": "e206908d-2f8b-4be3-b695-c7f214948038"
      },
      "outputs": [
        {
          "output_type": "stream",
          "name": "stdout",
          "text": [
            "Ozone 1 (H/M/L/NJ)                              object\n",
            "Ozone 2 (H/M/L/NJ)                              object\n",
            "Eligible Companies > 5 (Yes/No)                 object\n",
            "Ozones 2 Remarks                                object\n",
            "College Name                                    object\n",
            "College (Pivot)                                 object\n",
            "Course                                          object\n",
            "Course (Pivot)                                  object\n",
            "Branch/Department                               object\n",
            "Analytics/Consultancy/DS                        object\n",
            "Applied Financial Aid                           object\n",
            "Attending Group Sessions                        object\n",
            "Joined personal Whatsapp grp of Study Grp       object\n",
            "Aptitude Prepared ever?                         object\n",
            "ML/AI/Data analytics/science prepared ever?     object\n",
            "Internships/Working?                            object\n",
            "Summer Intern is there? (Y/N)                   object\n",
            "Cases/guestimates experince?                    object\n",
            "PORs                                            object\n",
            "Prepared Resume                                 object\n",
            "CGPA?                                           object\n",
            "CAT/MBA/GMAT Prep                               object\n",
            "Communication skills rating                    float64\n",
            "Test rating                                     object\n",
            "Tech Rating                                     object\n",
            "Overall Rating Ozone 1                          object\n",
            "Ozones 1 Remarks                                object\n",
            "dtype: object\n"
          ]
        }
      ],
      "source": [
        "column_data_types = xlsx_data.dtypes\n",
        "print(column_data_types)"
      ]
    },
    {
      "cell_type": "code",
      "execution_count": null,
      "metadata": {
        "colab": {
          "base_uri": "https://localhost:8080/"
        },
        "id": "WPjlR_1-GuzE",
        "outputId": "8fe9d2e4-8b10-435a-a6d3-070badeb4f58"
      },
      "outputs": [
        {
          "output_type": "stream",
          "name": "stdout",
          "text": [
            "Ozone 1 (H/M/L/NJ)                              3\n",
            "Ozone 2 (H/M/L/NJ)                              7\n",
            "Eligible Companies > 5 (Yes/No)                12\n",
            "Ozones 2 Remarks                               11\n",
            "College Name                                    0\n",
            "College (Pivot)                                 0\n",
            "Course                                          0\n",
            "Course (Pivot)                                  0\n",
            "Branch/Department                               0\n",
            "Analytics/Consultancy/DS                       15\n",
            "Applied Financial Aid                          12\n",
            "Attending Group Sessions                       14\n",
            "Joined personal Whatsapp grp of Study Grp      13\n",
            "Aptitude Prepared ever?                        10\n",
            "ML/AI/Data analytics/science prepared ever?    10\n",
            "Internships/Working?                           10\n",
            "Summer Intern is there? (Y/N)                  10\n",
            "Cases/guestimates experince?                   11\n",
            "PORs                                           10\n",
            "Prepared Resume                                24\n",
            "CGPA?                                          20\n",
            "CAT/MBA/GMAT Prep                              11\n",
            "Communication skills rating                    11\n",
            "Test rating                                    13\n",
            "Tech Rating                                    15\n",
            "Overall Rating Ozone 1                         24\n",
            "Ozones 1 Remarks                               37\n",
            "dtype: int64\n"
          ]
        }
      ],
      "source": [
        "null_count = xlsx_data.isnull().sum()\n",
        "print(null_count)"
      ]
    },
    {
      "cell_type": "code",
      "execution_count": null,
      "metadata": {
        "colab": {
          "base_uri": "https://localhost:8080/"
        },
        "id": "D1YMkx9FIjRr",
        "outputId": "cefccdd8-2d32-4917-b367-9c017dcbb5d8"
      },
      "outputs": [
        {
          "output_type": "execute_result",
          "data": {
            "text/plain": [
              "0       M\n",
              "1      NJ\n",
              "2       L\n",
              "3       L\n",
              "4       H\n",
              "       ..\n",
              "100     L\n",
              "101     M\n",
              "102     H\n",
              "103     M\n",
              "104    NJ\n",
              "Name: Ozone 1 (H/M/L/NJ), Length: 105, dtype: object"
            ]
          },
          "metadata": {},
          "execution_count": 25
        }
      ],
      "source": [
        "xlsx_data['Ozone 1 (H/M/L/NJ)']"
      ]
    },
    {
      "cell_type": "code",
      "execution_count": null,
      "metadata": {
        "id": "xQ_vDNDoB2i7"
      },
      "outputs": [],
      "source": [
        "mapping = {'H': 3, 'M': 2, 'L': 1, 'NJ':0}\n",
        "xlsx_data['Ozone 1 (H/M/L/NJ)'] = xlsx_data['Ozone 1 (H/M/L/NJ)'].map(mapping)"
      ]
    },
    {
      "cell_type": "code",
      "execution_count": null,
      "metadata": {
        "colab": {
          "base_uri": "https://localhost:8080/"
        },
        "id": "w-xXiQAZH6_x",
        "outputId": "dd405f95-1d6e-4823-ed94-2c1002f78672"
      },
      "outputs": [
        {
          "output_type": "execute_result",
          "data": {
            "text/plain": [
              "0      2.0\n",
              "1      0.0\n",
              "2      1.0\n",
              "3      1.0\n",
              "4      3.0\n",
              "      ... \n",
              "100    1.0\n",
              "101    2.0\n",
              "102    3.0\n",
              "103    2.0\n",
              "104    0.0\n",
              "Name: Ozone 1 (H/M/L/NJ), Length: 105, dtype: float64"
            ]
          },
          "metadata": {},
          "execution_count": 33
        }
      ],
      "source": [
        "xlsx_data['Ozone 1 (H/M/L/NJ)']"
      ]
    },
    {
      "cell_type": "code",
      "execution_count": null,
      "metadata": {
        "colab": {
          "base_uri": "https://localhost:8080/"
        },
        "id": "0wfAeUClJ7TM",
        "outputId": "1b21734e-3ed5-4d5a-ce9d-330734a89233"
      },
      "outputs": [
        {
          "output_type": "execute_result",
          "data": {
            "text/plain": [
              "0      3.0\n",
              "1      1.0\n",
              "2      1.0\n",
              "3      1.0\n",
              "4      3.0\n",
              "      ... \n",
              "100    1.0\n",
              "101    NaN\n",
              "102    3.0\n",
              "103    2.0\n",
              "104    0.0\n",
              "Name: Ozone 2 (H/M/L/NJ), Length: 105, dtype: float64"
            ]
          },
          "metadata": {},
          "execution_count": 34
        }
      ],
      "source": [
        "xlsx_data['Ozone 2 (H/M/L/NJ)'] = xlsx_data['Ozone 2 (H/M/L/NJ)'].map(mapping)\n",
        "xlsx_data['Ozone 2 (H/M/L/NJ)']"
      ]
    },
    {
      "cell_type": "code",
      "execution_count": null,
      "metadata": {
        "id": "DC-O76FFWk9S"
      },
      "outputs": [],
      "source": [
        "xlsx_data['CGPA?'] = xlsx_data['CGPA?'].str.extract(r'(\\d+\\.\\d+)', expand=False).astype(float)\n"
      ]
    },
    {
      "cell_type": "code",
      "execution_count": null,
      "metadata": {
        "colab": {
          "base_uri": "https://localhost:8080/"
        },
        "id": "ZvS1mDV0Xi9Y",
        "outputId": "acc57fc2-feb8-4ce2-eb5b-e4ef70281063"
      },
      "outputs": [
        {
          "output_type": "execute_result",
          "data": {
            "text/plain": [
              "dtype('float64')"
            ]
          },
          "metadata": {},
          "execution_count": 36
        }
      ],
      "source": [
        "xlsx_data['CGPA?'].dtypes"
      ]
    },
    {
      "cell_type": "code",
      "execution_count": null,
      "metadata": {
        "colab": {
          "base_uri": "https://localhost:8080/"
        },
        "id": "k7j_rsspLh02",
        "outputId": "2824b165-9e1f-42a2-e700-ffa9fab981dc"
      },
      "outputs": [
        {
          "output_type": "stream",
          "name": "stdout",
          "text": [
            "4\n"
          ]
        }
      ],
      "source": [
        "rows_with_dash = (xlsx_data['Aptitude Prepared ever?'] == '-').sum()\n",
        "print(rows_with_dash)"
      ]
    },
    {
      "cell_type": "code",
      "execution_count": null,
      "metadata": {
        "colab": {
          "base_uri": "https://localhost:8080/"
        },
        "id": "tm8H2wYQNkLZ",
        "outputId": "ad243c3a-f07c-4adc-f990-c095609c1346"
      },
      "outputs": [
        {
          "output_type": "execute_result",
          "data": {
            "text/plain": [
              "0       No\n",
              "1       No\n",
              "2      Yes\n",
              "3       no\n",
              "4      yes\n",
              "      ... \n",
              "100      -\n",
              "101     No\n",
              "102    Yes\n",
              "103     No\n",
              "104     No\n",
              "Name: Aptitude Prepared ever?, Length: 105, dtype: object"
            ]
          },
          "metadata": {},
          "execution_count": 38
        }
      ],
      "source": [
        "xlsx_data['Aptitude Prepared ever?']"
      ]
    },
    {
      "cell_type": "code",
      "execution_count": null,
      "metadata": {
        "id": "Mu0qN3_iNUyG"
      },
      "outputs": [],
      "source": [
        "xlsx_data = xlsx_data[xlsx_data['Aptitude Prepared ever?'] != '-']"
      ]
    },
    {
      "cell_type": "code",
      "execution_count": null,
      "metadata": {
        "colab": {
          "base_uri": "https://localhost:8080/"
        },
        "id": "g39lcur4N7Od",
        "outputId": "b7740718-0028-419c-8d89-bacefe20d513"
      },
      "outputs": [
        {
          "output_type": "stream",
          "name": "stdout",
          "text": [
            "0\n"
          ]
        }
      ],
      "source": [
        "rows_with_dash = (xlsx_data['Aptitude Prepared ever?'] == '-').sum()\n",
        "print(rows_with_dash)"
      ]
    },
    {
      "cell_type": "code",
      "execution_count": null,
      "metadata": {
        "id": "KVWwsWHmY3Vb"
      },
      "outputs": [],
      "source": [
        "def convert_aptitude_level(level):\n",
        "    if pd.isna(level):\n",
        "        return level\n",
        "    elif isinstance(level, (int, float)):\n",
        "        return float(level)\n",
        "    elif \"yes\" in level.lower() or \"basic\" in level.lower():\n",
        "        return 1\n",
        "    elif \"no\" in level.lower() or \"start\" in level.lower():\n",
        "        return 0\n",
        "    else:\n",
        "        return level\n",
        "\n"
      ]
    },
    {
      "cell_type": "code",
      "execution_count": null,
      "metadata": {
        "id": "oAQE_iVth0Rj",
        "colab": {
          "base_uri": "https://localhost:8080/"
        },
        "outputId": "06bed7c4-1728-459e-83ae-e453a3c1f5d3"
      },
      "outputs": [
        {
          "output_type": "stream",
          "name": "stderr",
          "text": [
            "<ipython-input-42-2876201f7b1f>:1: SettingWithCopyWarning: \n",
            "A value is trying to be set on a copy of a slice from a DataFrame.\n",
            "Try using .loc[row_indexer,col_indexer] = value instead\n",
            "\n",
            "See the caveats in the documentation: https://pandas.pydata.org/pandas-docs/stable/user_guide/indexing.html#returning-a-view-versus-a-copy\n",
            "  xlsx_data['Aptitude Prepared ever?'] = xlsx_data['Aptitude Prepared ever?'].apply(convert_aptitude_level)\n"
          ]
        }
      ],
      "source": [
        "xlsx_data['Aptitude Prepared ever?'] = xlsx_data['Aptitude Prepared ever?'].apply(convert_aptitude_level)"
      ]
    },
    {
      "cell_type": "code",
      "execution_count": null,
      "metadata": {
        "colab": {
          "base_uri": "https://localhost:8080/"
        },
        "id": "9aKK92XHjKM1",
        "outputId": "a7268ac8-20e0-415b-de72-3e34525de0aa"
      },
      "outputs": [
        {
          "output_type": "execute_result",
          "data": {
            "text/plain": [
              "0        0\n",
              "1        0\n",
              "2        1\n",
              "3        0\n",
              "4        1\n",
              "      ... \n",
              "99     NaN\n",
              "101      0\n",
              "102      1\n",
              "103      0\n",
              "104      0\n",
              "Name: Aptitude Prepared ever?, Length: 101, dtype: object"
            ]
          },
          "metadata": {},
          "execution_count": 43
        }
      ],
      "source": [
        "xlsx_data['Aptitude Prepared ever?']"
      ]
    },
    {
      "cell_type": "code",
      "execution_count": null,
      "metadata": {
        "id": "mipY5_yBFkSj"
      },
      "outputs": [],
      "source": [
        "def convert_resume_level(level):\n",
        "    if pd.isna(level):\n",
        "        return level\n",
        "    elif isinstance(level, (int, float)):\n",
        "        return float(level)\n",
        "    elif \"yes\" in level.lower() or \"prepared\" in level.lower():\n",
        "        return 1\n",
        "    elif \"no\" in level.lower():\n",
        "        return 0\n",
        "    else:\n",
        "        return level"
      ]
    },
    {
      "cell_type": "code",
      "execution_count": null,
      "metadata": {
        "id": "aVCYcdOSOzB-",
        "colab": {
          "base_uri": "https://localhost:8080/"
        },
        "outputId": "6c7bec0b-4a7e-4956-ec8c-2e0c39999f8a"
      },
      "outputs": [
        {
          "output_type": "stream",
          "name": "stderr",
          "text": [
            "<ipython-input-45-a2a8c24fde95>:1: SettingWithCopyWarning: \n",
            "A value is trying to be set on a copy of a slice from a DataFrame.\n",
            "Try using .loc[row_indexer,col_indexer] = value instead\n",
            "\n",
            "See the caveats in the documentation: https://pandas.pydata.org/pandas-docs/stable/user_guide/indexing.html#returning-a-view-versus-a-copy\n",
            "  xlsx_data['Prepared Resume'] = xlsx_data['Prepared Resume'].apply(convert_resume_level)\n"
          ]
        }
      ],
      "source": [
        "xlsx_data['Prepared Resume'] = xlsx_data['Prepared Resume'].apply(convert_resume_level)"
      ]
    },
    {
      "cell_type": "code",
      "execution_count": null,
      "metadata": {
        "colab": {
          "base_uri": "https://localhost:8080/"
        },
        "id": "gOHKnPHoO7Sn",
        "outputId": "88030f24-7c78-4613-80e1-91c2110294ff"
      },
      "outputs": [
        {
          "output_type": "execute_result",
          "data": {
            "text/plain": [
              "0      1.0\n",
              "1      1.0\n",
              "2      1.0\n",
              "3      1.0\n",
              "4      1.0\n",
              "      ... \n",
              "99     NaN\n",
              "101    1.0\n",
              "102    1.0\n",
              "103    0.0\n",
              "104    0.0\n",
              "Name: Prepared Resume, Length: 101, dtype: float64"
            ]
          },
          "metadata": {},
          "execution_count": 46
        }
      ],
      "source": [
        "xlsx_data['Prepared Resume']"
      ]
    },
    {
      "cell_type": "code",
      "execution_count": null,
      "metadata": {
        "id": "5LFVie85QiTY"
      },
      "outputs": [],
      "source": [
        "def convert_por_level(level):\n",
        "    if pd.isna(level):\n",
        "        return level\n",
        "    elif isinstance(level, (int, float)):\n",
        "        return float(level)\n",
        "    elif isinstance(level, (int, float)):\n",
        "        return float(level)\n",
        "    elif \"no\" in level.lower():\n",
        "        return 0\n",
        "    else:\n",
        "        return 1"
      ]
    },
    {
      "cell_type": "code",
      "execution_count": null,
      "metadata": {
        "id": "NwPUtmjCU-aO",
        "colab": {
          "base_uri": "https://localhost:8080/"
        },
        "outputId": "8b835432-62fb-46e6-9c91-47b7c6adee0c"
      },
      "outputs": [
        {
          "output_type": "stream",
          "name": "stderr",
          "text": [
            "<ipython-input-48-bf027a30524c>:1: SettingWithCopyWarning: \n",
            "A value is trying to be set on a copy of a slice from a DataFrame.\n",
            "Try using .loc[row_indexer,col_indexer] = value instead\n",
            "\n",
            "See the caveats in the documentation: https://pandas.pydata.org/pandas-docs/stable/user_guide/indexing.html#returning-a-view-versus-a-copy\n",
            "  xlsx_data['PORs'] = xlsx_data['PORs'].apply(convert_por_level)\n"
          ]
        }
      ],
      "source": [
        "xlsx_data['PORs'] = xlsx_data['PORs'].apply(convert_por_level)"
      ]
    },
    {
      "cell_type": "code",
      "execution_count": null,
      "metadata": {
        "colab": {
          "base_uri": "https://localhost:8080/"
        },
        "id": "Iwwh9ff9VGjV",
        "outputId": "8206bfba-d669-4910-8ed4-8bf2a25b15fa"
      },
      "outputs": [
        {
          "output_type": "execute_result",
          "data": {
            "text/plain": [
              "0      1.0\n",
              "1      1.0\n",
              "2      0.0\n",
              "3      1.0\n",
              "4      1.0\n",
              "      ... \n",
              "99     NaN\n",
              "101    1.0\n",
              "102    1.0\n",
              "103    1.0\n",
              "104    0.0\n",
              "Name: PORs, Length: 101, dtype: float64"
            ]
          },
          "metadata": {},
          "execution_count": 49
        }
      ],
      "source": [
        "xlsx_data['PORs']"
      ]
    },
    {
      "cell_type": "code",
      "execution_count": null,
      "metadata": {
        "id": "XZ-nTPbUVJUA"
      },
      "outputs": [],
      "source": [
        "def convert_session_level(level):\n",
        "    if pd.isna(level):\n",
        "        return level\n",
        "    elif isinstance(level, (int, float)):\n",
        "        return float(level)\n",
        "    elif \"no\" in level.lower():\n",
        "        return 0\n",
        "    else:\n",
        "        return 1"
      ]
    },
    {
      "cell_type": "code",
      "execution_count": null,
      "metadata": {
        "id": "q3AokBE1ZDxo",
        "colab": {
          "base_uri": "https://localhost:8080/",
          "height": 311
        },
        "outputId": "1c03e447-6cb6-4b06-bf6e-791316320b09"
      },
      "outputs": [
        {
          "output_type": "error",
          "ename": "AttributeError",
          "evalue": "ignored",
          "traceback": [
            "\u001b[0;31m---------------------------------------------------------------------------\u001b[0m",
            "\u001b[0;31mAttributeError\u001b[0m                            Traceback (most recent call last)",
            "\u001b[0;32m<ipython-input-51-50ac4a515300>\u001b[0m in \u001b[0;36m<cell line: 1>\u001b[0;34m()\u001b[0m\n\u001b[0;32m----> 1\u001b[0;31m \u001b[0mxlsx_data\u001b[0m\u001b[0;34m[\u001b[0m\u001b[0;34m'Attending Group Sessions'\u001b[0m\u001b[0;34m]\u001b[0m \u001b[0;34m=\u001b[0m \u001b[0mxlsx_data\u001b[0m\u001b[0;34m[\u001b[0m\u001b[0;34m'Attending Group Sessions'\u001b[0m\u001b[0;34m]\u001b[0m\u001b[0;34m.\u001b[0m\u001b[0mapply\u001b[0m\u001b[0;34m(\u001b[0m\u001b[0mconvert_session_level\u001b[0m\u001b[0;34m)\u001b[0m\u001b[0;34m\u001b[0m\u001b[0;34m\u001b[0m\u001b[0m\n\u001b[0m",
            "\u001b[0;32m/usr/local/lib/python3.10/dist-packages/pandas/core/series.py\u001b[0m in \u001b[0;36mapply\u001b[0;34m(self, func, convert_dtype, args, **kwargs)\u001b[0m\n\u001b[1;32m   4769\u001b[0m         \u001b[0mdtype\u001b[0m\u001b[0;34m:\u001b[0m \u001b[0mfloat64\u001b[0m\u001b[0;34m\u001b[0m\u001b[0;34m\u001b[0m\u001b[0m\n\u001b[1;32m   4770\u001b[0m         \"\"\"\n\u001b[0;32m-> 4771\u001b[0;31m         \u001b[0;32mreturn\u001b[0m \u001b[0mSeriesApply\u001b[0m\u001b[0;34m(\u001b[0m\u001b[0mself\u001b[0m\u001b[0;34m,\u001b[0m \u001b[0mfunc\u001b[0m\u001b[0;34m,\u001b[0m \u001b[0mconvert_dtype\u001b[0m\u001b[0;34m,\u001b[0m \u001b[0margs\u001b[0m\u001b[0;34m,\u001b[0m \u001b[0mkwargs\u001b[0m\u001b[0;34m)\u001b[0m\u001b[0;34m.\u001b[0m\u001b[0mapply\u001b[0m\u001b[0;34m(\u001b[0m\u001b[0;34m)\u001b[0m\u001b[0;34m\u001b[0m\u001b[0;34m\u001b[0m\u001b[0m\n\u001b[0m\u001b[1;32m   4772\u001b[0m \u001b[0;34m\u001b[0m\u001b[0m\n\u001b[1;32m   4773\u001b[0m     def _reduce(\n",
            "\u001b[0;32m/usr/local/lib/python3.10/dist-packages/pandas/core/apply.py\u001b[0m in \u001b[0;36mapply\u001b[0;34m(self)\u001b[0m\n\u001b[1;32m   1121\u001b[0m \u001b[0;34m\u001b[0m\u001b[0m\n\u001b[1;32m   1122\u001b[0m         \u001b[0;31m# self.f is Callable\u001b[0m\u001b[0;34m\u001b[0m\u001b[0;34m\u001b[0m\u001b[0m\n\u001b[0;32m-> 1123\u001b[0;31m         \u001b[0;32mreturn\u001b[0m \u001b[0mself\u001b[0m\u001b[0;34m.\u001b[0m\u001b[0mapply_standard\u001b[0m\u001b[0;34m(\u001b[0m\u001b[0;34m)\u001b[0m\u001b[0;34m\u001b[0m\u001b[0;34m\u001b[0m\u001b[0m\n\u001b[0m\u001b[1;32m   1124\u001b[0m \u001b[0;34m\u001b[0m\u001b[0m\n\u001b[1;32m   1125\u001b[0m     \u001b[0;32mdef\u001b[0m \u001b[0magg\u001b[0m\u001b[0;34m(\u001b[0m\u001b[0mself\u001b[0m\u001b[0;34m)\u001b[0m\u001b[0;34m:\u001b[0m\u001b[0;34m\u001b[0m\u001b[0;34m\u001b[0m\u001b[0m\n",
            "\u001b[0;32m/usr/local/lib/python3.10/dist-packages/pandas/core/apply.py\u001b[0m in \u001b[0;36mapply_standard\u001b[0;34m(self)\u001b[0m\n\u001b[1;32m   1172\u001b[0m             \u001b[0;32melse\u001b[0m\u001b[0;34m:\u001b[0m\u001b[0;34m\u001b[0m\u001b[0;34m\u001b[0m\u001b[0m\n\u001b[1;32m   1173\u001b[0m                 \u001b[0mvalues\u001b[0m \u001b[0;34m=\u001b[0m \u001b[0mobj\u001b[0m\u001b[0;34m.\u001b[0m\u001b[0mastype\u001b[0m\u001b[0;34m(\u001b[0m\u001b[0mobject\u001b[0m\u001b[0;34m)\u001b[0m\u001b[0;34m.\u001b[0m\u001b[0m_values\u001b[0m\u001b[0;34m\u001b[0m\u001b[0;34m\u001b[0m\u001b[0m\n\u001b[0;32m-> 1174\u001b[0;31m                 mapped = lib.map_infer(\n\u001b[0m\u001b[1;32m   1175\u001b[0m                     \u001b[0mvalues\u001b[0m\u001b[0;34m,\u001b[0m\u001b[0;34m\u001b[0m\u001b[0;34m\u001b[0m\u001b[0m\n\u001b[1;32m   1176\u001b[0m                     \u001b[0mf\u001b[0m\u001b[0;34m,\u001b[0m\u001b[0;34m\u001b[0m\u001b[0;34m\u001b[0m\u001b[0m\n",
            "\u001b[0;32m/usr/local/lib/python3.10/dist-packages/pandas/_libs/lib.pyx\u001b[0m in \u001b[0;36mpandas._libs.lib.map_infer\u001b[0;34m()\u001b[0m\n",
            "\u001b[0;32m<ipython-input-50-a622ed93ebc3>\u001b[0m in \u001b[0;36mconvert_session_level\u001b[0;34m(level)\u001b[0m\n\u001b[1;32m      4\u001b[0m     \u001b[0;32melif\u001b[0m \u001b[0misinstance\u001b[0m\u001b[0;34m(\u001b[0m\u001b[0mlevel\u001b[0m\u001b[0;34m,\u001b[0m \u001b[0;34m(\u001b[0m\u001b[0mint\u001b[0m\u001b[0;34m,\u001b[0m \u001b[0mfloat\u001b[0m\u001b[0;34m)\u001b[0m\u001b[0;34m)\u001b[0m\u001b[0;34m:\u001b[0m\u001b[0;34m\u001b[0m\u001b[0;34m\u001b[0m\u001b[0m\n\u001b[1;32m      5\u001b[0m         \u001b[0;32mreturn\u001b[0m \u001b[0mfloat\u001b[0m\u001b[0;34m(\u001b[0m\u001b[0mlevel\u001b[0m\u001b[0;34m)\u001b[0m\u001b[0;34m\u001b[0m\u001b[0;34m\u001b[0m\u001b[0m\n\u001b[0;32m----> 6\u001b[0;31m     \u001b[0;32melif\u001b[0m \u001b[0;34m\"no\"\u001b[0m \u001b[0;32min\u001b[0m \u001b[0mlevel\u001b[0m\u001b[0;34m.\u001b[0m\u001b[0mlower\u001b[0m\u001b[0;34m(\u001b[0m\u001b[0;34m)\u001b[0m\u001b[0;34m:\u001b[0m\u001b[0;34m\u001b[0m\u001b[0;34m\u001b[0m\u001b[0m\n\u001b[0m\u001b[1;32m      7\u001b[0m         \u001b[0;32mreturn\u001b[0m \u001b[0;36m0\u001b[0m\u001b[0;34m\u001b[0m\u001b[0;34m\u001b[0m\u001b[0m\n\u001b[1;32m      8\u001b[0m     \u001b[0;32melse\u001b[0m\u001b[0;34m:\u001b[0m\u001b[0;34m\u001b[0m\u001b[0;34m\u001b[0m\u001b[0m\n",
            "\u001b[0;31mAttributeError\u001b[0m: 'datetime.datetime' object has no attribute 'lower'"
          ]
        }
      ],
      "source": [
        "xlsx_data['Attending Group Sessions'] = xlsx_data['Attending Group Sessions'].apply(convert_session_level)"
      ]
    },
    {
      "cell_type": "code",
      "execution_count": null,
      "metadata": {
        "id": "pbFm7Ym0ZW1Q",
        "colab": {
          "base_uri": "https://localhost:8080/"
        },
        "outputId": "f1d1fd4a-6d00-49d6-804c-b924be4f3968"
      },
      "outputs": [
        {
          "output_type": "stream",
          "name": "stderr",
          "text": [
            "<ipython-input-62-dd4938f700f7>:7: SettingWithCopyWarning: \n",
            "A value is trying to be set on a copy of a slice from a DataFrame.\n",
            "Try using .loc[row_indexer,col_indexer] = value instead\n",
            "\n",
            "See the caveats in the documentation: https://pandas.pydata.org/pandas-docs/stable/user_guide/indexing.html#returning-a-view-versus-a-copy\n",
            "  xlsx_data[column] = xlsx_data['ML/AI/Data analytics/science prepared ever?'].apply(lambda x: 1 if isinstance(x, str) and (column in x.lower() or 'yes' in x.lower()) else 0)\n"
          ]
        }
      ],
      "source": [
        "import pandas as pd\n",
        "\n",
        "columns_to_check = ['python', 'sql', 'ml', 'stats', 'dsa', 'c++', 'excel']\n",
        "\n",
        "# Create a new column for each column to check\n",
        "for column in columns_to_check:\n",
        "    xlsx_data[column] = xlsx_data['ML/AI/Data analytics/science prepared ever?'].apply(lambda x: 1 if isinstance(x, str) and (column in x.lower() or 'yes' in x.lower()) else 0)\n",
        "\n"
      ]
    },
    {
      "cell_type": "code",
      "execution_count": null,
      "metadata": {
        "colab": {
          "base_uri": "https://localhost:8080/"
        },
        "id": "0WjYbMz_9XcR",
        "outputId": "1725c511-ab38-43fe-d6a3-cb2c3ad2217d"
      },
      "outputs": [
        {
          "output_type": "execute_result",
          "data": {
            "text/plain": [
              "66                                                   Yes\n",
              "67                                                   Yes\n",
              "68                                                Basics\n",
              "69                             DSA in C++, python basics\n",
              "70                                   basics of R and sql\n",
              "71                              Basic programming, excel\n",
              "72                            basics of python sql excel\n",
              "73                                            Statistics\n",
              "74                                                    No\n",
              "75                                                   NaN\n",
              "76                                                   NaN\n",
              "77                                                   NaN\n",
              "78                              SQL, Basic Python, Excel\n",
              "79                            Excel, Stats, Python, SQL,\n",
              "80                              Python, basic SQL, Excel\n",
              "81                                Python, Sql, Excel, ML\n",
              "82                                                   SQL\n",
              "83                                Python, SQL, Basic ML,\n",
              "85                                          Basic Python\n",
              "86                                     Python, Basic SQL\n",
              "88                                             Basic SQl\n",
              "89                                                   NaN\n",
              "90                     Python basic, Sql, Excel, Tableau\n",
              "91     Python basic, Sql basic, Excel, ML basics, Tab...\n",
              "92           Basic Python, Basic SQL, Excel, Basic Stats\n",
              "93                   Very Basic SQL, Excel, Basic Python\n",
              "94                     Basic Python, SQL, Excel, R, SPSS\n",
              "95                            Basic Python, Excel, stats\n",
              "97                   Python, Sql, Excel, Tableau/PowerBI\n",
              "98                                    Python, Sql, Excel\n",
              "99                                                   NaN\n",
              "101      Python, SQL(Basic), Excel, Stats, Tableau-Basic\n",
              "102                Python, SQL, Excel, Stats, ML (Basic)\n",
              "103    Python, SQL, Excel - Intermediate,/ ML, DSA, D...\n",
              "104                                         Just started\n",
              "Name: ML/AI/Data analytics/science prepared ever?, dtype: object"
            ]
          },
          "metadata": {},
          "execution_count": 59
        }
      ],
      "source": [
        "rows_90_to_130 = xlsx_data.loc[66:130, 'ML/AI/Data analytics/science prepared ever?']\n",
        "rows_90_to_130"
      ]
    },
    {
      "cell_type": "code",
      "execution_count": null,
      "metadata": {
        "colab": {
          "base_uri": "https://localhost:8080/"
        },
        "id": "3-PoUuPO70wU",
        "outputId": "2bbbef6b-b4b6-4217-9a5a-d826bb9ef946"
      },
      "outputs": [
        {
          "output_type": "execute_result",
          "data": {
            "text/plain": [
              "80     1\n",
              "81     1\n",
              "82     0\n",
              "83     1\n",
              "85     1\n",
              "86     1\n",
              "88     0\n",
              "89     0\n",
              "90     1\n",
              "91     1\n",
              "92     1\n",
              "93     1\n",
              "94     1\n",
              "95     1\n",
              "97     1\n",
              "98     1\n",
              "99     0\n",
              "101    1\n",
              "102    1\n",
              "103    1\n",
              "104    0\n",
              "Name: python, dtype: int64"
            ]
          },
          "metadata": {},
          "execution_count": 60
        }
      ],
      "source": [
        "rows_80_to_130 = xlsx_data.loc[80:130, 'python']\n",
        "rows_80_to_130\n"
      ]
    },
    {
      "cell_type": "code",
      "execution_count": null,
      "metadata": {
        "colab": {
          "base_uri": "https://localhost:8080/"
        },
        "id": "YcqmsE2h9FT-",
        "outputId": "1255ada3-6724-440d-8a94-328e4744fc4e"
      },
      "outputs": [
        {
          "output_type": "execute_result",
          "data": {
            "text/plain": [
              "80     1\n",
              "81     1\n",
              "82     1\n",
              "83     1\n",
              "85     0\n",
              "86     1\n",
              "88     1\n",
              "89     0\n",
              "90     1\n",
              "91     1\n",
              "92     1\n",
              "93     1\n",
              "94     1\n",
              "95     0\n",
              "97     1\n",
              "98     1\n",
              "99     0\n",
              "101    1\n",
              "102    1\n",
              "103    1\n",
              "104    0\n",
              "Name: sql, dtype: int64"
            ]
          },
          "metadata": {},
          "execution_count": 63
        }
      ],
      "source": [
        "rows_80_to_130 = xlsx_data.loc[80:130, 'sql']\n",
        "rows_80_to_130"
      ]
    },
    {
      "cell_type": "code",
      "execution_count": null,
      "metadata": {
        "colab": {
          "base_uri": "https://localhost:8080/"
        },
        "id": "Q0HvCBT99pU3",
        "outputId": "8412a2e9-a66e-4dab-f04b-7c266fa02ff4"
      },
      "outputs": [
        {
          "output_type": "execute_result",
          "data": {
            "text/plain": [
              "80     0\n",
              "81     1\n",
              "82     0\n",
              "83     1\n",
              "85     0\n",
              "86     0\n",
              "88     0\n",
              "89     0\n",
              "90     0\n",
              "91     1\n",
              "92     0\n",
              "93     0\n",
              "94     0\n",
              "95     0\n",
              "97     0\n",
              "98     0\n",
              "99     0\n",
              "101    0\n",
              "102    1\n",
              "103    1\n",
              "104    0\n",
              "Name: ml, dtype: int64"
            ]
          },
          "metadata": {},
          "execution_count": 64
        }
      ],
      "source": [
        "rows_80_to_130 = xlsx_data.loc[80:130, 'ml']\n",
        "rows_80_to_130"
      ]
    },
    {
      "cell_type": "code",
      "execution_count": null,
      "metadata": {
        "colab": {
          "base_uri": "https://localhost:8080/"
        },
        "id": "Agpawu_YAnj1",
        "outputId": "cfdb5ed1-c955-4874-9ad7-df17dec6983e"
      },
      "outputs": [
        {
          "output_type": "execute_result",
          "data": {
            "text/plain": [
              "0                                                    Yes\n",
              "1                                                     No\n",
              "2                                                     No\n",
              "3                                                     No\n",
              "4                                                    yes\n",
              "                             ...                        \n",
              "99                                                   NaN\n",
              "101      Python, SQL(Basic), Excel, Stats, Tableau-Basic\n",
              "102                Python, SQL, Excel, Stats, ML (Basic)\n",
              "103    Python, SQL, Excel - Intermediate,/ ML, DSA, D...\n",
              "104                                         Just started\n",
              "Name: ML/AI/Data analytics/science prepared ever?, Length: 101, dtype: object"
            ]
          },
          "metadata": {},
          "execution_count": 65
        }
      ],
      "source": [
        "xlsx_data['ML/AI/Data analytics/science prepared ever?']"
      ]
    },
    {
      "cell_type": "code",
      "execution_count": null,
      "metadata": {
        "id": "KFPk39BkbPit"
      },
      "outputs": [],
      "source": [
        "# def convert_intern_level(level):\n",
        "#     if isinstance(level, (int, float)):\n",
        "#         return float(level)\n",
        "#     elif \"no\" in level.lower():\n",
        "#         return 0\n",
        "#     else:\n",
        "#         return 1"
      ]
    },
    {
      "cell_type": "code",
      "execution_count": null,
      "metadata": {
        "id": "XXvEbj0LbSC6"
      },
      "outputs": [],
      "source": [
        "# xlsx_data['Internships/Working?'] = xlsx_data['Internships/Working?'].apply(convert_intern_level)"
      ]
    },
    {
      "cell_type": "code",
      "execution_count": null,
      "metadata": {
        "colab": {
          "base_uri": "https://localhost:8080/"
        },
        "id": "bn7wJii4_W8J",
        "outputId": "2f5c5190-340a-4786-c3b5-9b83bff740c7"
      },
      "outputs": [
        {
          "output_type": "execute_result",
          "data": {
            "text/plain": [
              "0      0\n",
              "1      0\n",
              "2      0\n",
              "4      1\n",
              "5      0\n",
              "6      1\n",
              "7      1\n",
              "8      0\n",
              "10     0\n",
              "11     0\n",
              "12     0\n",
              "13     0\n",
              "14     0\n",
              "15     0\n",
              "18     1\n",
              "19     0\n",
              "24     1\n",
              "26     0\n",
              "30     0\n",
              "34     1\n",
              "50     0\n",
              "51     1\n",
              "52     0\n",
              "54     1\n",
              "55     0\n",
              "56     1\n",
              "57     0\n",
              "59     0\n",
              "60     0\n",
              "61     1\n",
              "63     1\n",
              "64     0\n",
              "65     0\n",
              "66     1\n",
              "67     0\n",
              "69     0\n",
              "70     0\n",
              "71     0\n",
              "72     1\n",
              "73     0\n",
              "74     0\n",
              "79     0\n",
              "80     0\n",
              "81     0\n",
              "82     1\n",
              "85     1\n",
              "86     0\n",
              "88     1\n",
              "90     0\n",
              "91     0\n",
              "92     1\n",
              "93     1\n",
              "94     1\n",
              "97     1\n",
              "98     1\n",
              "102    1\n",
              "103    1\n",
              "Name: Internships/Working?, dtype: int64"
            ]
          },
          "metadata": {},
          "execution_count": 39
        }
      ],
      "source": [
        "# xlsx_data['Internships/Working?']"
      ]
    },
    {
      "cell_type": "code",
      "execution_count": null,
      "metadata": {
        "id": "cPEEUZy_BsYH",
        "colab": {
          "base_uri": "https://localhost:8080/"
        },
        "outputId": "b2c2e6e0-693a-46bf-d48c-33b38befa41a"
      },
      "outputs": [
        {
          "output_type": "stream",
          "name": "stderr",
          "text": [
            "<ipython-input-69-97d17c27e242>:1: SettingWithCopyWarning: \n",
            "A value is trying to be set on a copy of a slice from a DataFrame.\n",
            "Try using .loc[row_indexer,col_indexer] = value instead\n",
            "\n",
            "See the caveats in the documentation: https://pandas.pydata.org/pandas-docs/stable/user_guide/indexing.html#returning-a-view-versus-a-copy\n",
            "  xlsx_data['Intern'] = xlsx_data.apply(lambda row: 0 if (isinstance(row['Internships/Working?'], str) and 'no' in row['Internships/Working?'].lower()) and (isinstance(row['Summer Intern is there? (Y/N)'], str) and 'no' in row['Summer Intern is there? (Y/N)'].lower()) else 1, axis=1)\n"
          ]
        }
      ],
      "source": [
        "# xlsx_data['Intern'] = xlsx_data.apply(lambda row: 0 if (isinstance(row['Internships/Working?'], str) and 'no' in row['Internships/Working?'].lower()) and (isinstance(row['Summer Intern is there? (Y/N)'], str) and 'no' in row['Summer Intern is there? (Y/N)'].lower()) else 1, axis=1)\n"
      ]
    },
    {
      "cell_type": "code",
      "source": [
        "xlsx_data['Intern2'] = xlsx_data.apply(lambda row: 0 if ((isinstance(row['Internships/Working?'], str) and 'no' in row['Internships/Working?'].lower()) or pd.isna(row['Internships/Working?'])) and (isinstance(row['Summer Intern is there? (Y/N)'], str) and 'no' in row['Summer Intern is there? (Y/N)'].lower()) else 1, axis=1)\n"
      ],
      "metadata": {
        "colab": {
          "base_uri": "https://localhost:8080/"
        },
        "id": "YZGQEN7RgFwj",
        "outputId": "302241e2-9b50-4177-85ac-2719381dd17c"
      },
      "execution_count": null,
      "outputs": [
        {
          "output_type": "stream",
          "name": "stderr",
          "text": [
            "<ipython-input-72-5b9e3441edff>:1: SettingWithCopyWarning: \n",
            "A value is trying to be set on a copy of a slice from a DataFrame.\n",
            "Try using .loc[row_indexer,col_indexer] = value instead\n",
            "\n",
            "See the caveats in the documentation: https://pandas.pydata.org/pandas-docs/stable/user_guide/indexing.html#returning-a-view-versus-a-copy\n",
            "  xlsx_data['Intern2'] = xlsx_data.apply(lambda row: 0 if ((isinstance(row['Internships/Working?'], str) and 'no' in row['Internships/Working?'].lower()) or pd.isna(row['Internships/Working?'])) and (isinstance(row['Summer Intern is there? (Y/N)'], str) and 'no' in row['Summer Intern is there? (Y/N)'].lower()) else 1, axis=1)\n"
          ]
        }
      ]
    },
    {
      "cell_type": "code",
      "source": [
        "xlsx_data['Intern2']"
      ],
      "metadata": {
        "colab": {
          "base_uri": "https://localhost:8080/"
        },
        "id": "F7hkd-Jtaueg",
        "outputId": "fb735386-acf7-436a-9915-cd5401cc4bfe"
      },
      "execution_count": null,
      "outputs": [
        {
          "output_type": "execute_result",
          "data": {
            "text/plain": [
              "0      1\n",
              "1      0\n",
              "2      0\n",
              "3      0\n",
              "4      1\n",
              "      ..\n",
              "99     1\n",
              "101    1\n",
              "102    1\n",
              "103    1\n",
              "104    0\n",
              "Name: Intern2, Length: 101, dtype: int64"
            ]
          },
          "metadata": {},
          "execution_count": 73
        }
      ]
    },
    {
      "cell_type": "code",
      "execution_count": null,
      "metadata": {
        "id": "OWYUOWwwDECz"
      },
      "outputs": [],
      "source": [
        "def convert_guesstimates_level(level):\n",
        "    if pd.isna(level):\n",
        "        return level\n",
        "    elif isinstance(level, (int, float)):\n",
        "        return float(level)\n",
        "    elif \"no\" in level.lower():\n",
        "        return 0\n",
        "    else:\n",
        "        return 1"
      ]
    },
    {
      "cell_type": "code",
      "execution_count": null,
      "metadata": {
        "id": "niUvsfigDrvZ",
        "colab": {
          "base_uri": "https://localhost:8080/"
        },
        "outputId": "37925266-8eb0-4a20-e684-63759b386c52"
      },
      "outputs": [
        {
          "output_type": "stream",
          "name": "stderr",
          "text": [
            "<ipython-input-75-97bf96ff09df>:1: SettingWithCopyWarning: \n",
            "A value is trying to be set on a copy of a slice from a DataFrame.\n",
            "Try using .loc[row_indexer,col_indexer] = value instead\n",
            "\n",
            "See the caveats in the documentation: https://pandas.pydata.org/pandas-docs/stable/user_guide/indexing.html#returning-a-view-versus-a-copy\n",
            "  xlsx_data['Cases/guestimates experince?'] = xlsx_data['Cases/guestimates experince?'].apply(convert_guesstimates_level)\n"
          ]
        }
      ],
      "source": [
        "xlsx_data['Cases/guestimates experince?'] = xlsx_data['Cases/guestimates experince?'].apply(convert_guesstimates_level)"
      ]
    },
    {
      "cell_type": "code",
      "execution_count": null,
      "metadata": {
        "id": "bueLJdLFEAlF",
        "outputId": "8d6006f0-c5c5-4a23-f62c-d79b863573a8",
        "colab": {
          "base_uri": "https://localhost:8080/"
        }
      },
      "outputs": [
        {
          "output_type": "execute_result",
          "data": {
            "text/plain": [
              "0      8.0\n",
              "1      5.0\n",
              "2      8.0\n",
              "3      4.0\n",
              "4      8.0\n",
              "      ... \n",
              "99     NaN\n",
              "101    4.0\n",
              "102    3.5\n",
              "103    3.0\n",
              "104    3.0\n",
              "Name: Communication skills rating, Length: 101, dtype: float64"
            ]
          },
          "metadata": {},
          "execution_count": 76
        }
      ],
      "source": [
        "xlsx_data['Communication skills rating']"
      ]
    },
    {
      "cell_type": "code",
      "execution_count": null,
      "metadata": {
        "id": "wXg9eF18CzvA",
        "outputId": "5f59a453-c38b-45cb-afff-76ed0cfec51b",
        "colab": {
          "base_uri": "https://localhost:8080/"
        }
      },
      "outputs": [
        {
          "output_type": "stream",
          "name": "stdout",
          "text": [
            "0\n"
          ]
        }
      ],
      "source": [
        "rows_with_dash = (xlsx_data['Communication skills rating'] == '-').sum()\n",
        "print(rows_with_dash)"
      ]
    },
    {
      "cell_type": "code",
      "execution_count": null,
      "metadata": {
        "id": "oDFLDpxOCzvA"
      },
      "outputs": [],
      "source": [
        "mode=xlsx_data['Communication skills rating'].mode()\n"
      ]
    },
    {
      "cell_type": "code",
      "execution_count": null,
      "metadata": {
        "id": "mqTwqR0kCzvB",
        "colab": {
          "base_uri": "https://localhost:8080/"
        },
        "outputId": "abd6e01d-e432-45d0-cc31-cf30fc660f61"
      },
      "outputs": [
        {
          "output_type": "stream",
          "name": "stderr",
          "text": [
            "<ipython-input-79-b6b61d89cedd>:1: SettingWithCopyWarning: \n",
            "A value is trying to be set on a copy of a slice from a DataFrame\n",
            "\n",
            "See the caveats in the documentation: https://pandas.pydata.org/pandas-docs/stable/user_guide/indexing.html#returning-a-view-versus-a-copy\n",
            "  xlsx_data['Communication skills rating'].fillna(value=mode, inplace = True)\n"
          ]
        }
      ],
      "source": [
        "xlsx_data['Communication skills rating'].fillna(value=mode, inplace = True)"
      ]
    },
    {
      "cell_type": "code",
      "execution_count": null,
      "metadata": {
        "id": "HMWgGx_ZCzvB"
      },
      "outputs": [],
      "source": [
        "count=xlsx_data['Communication skills rating'].isnull().sum()"
      ]
    },
    {
      "cell_type": "code",
      "execution_count": null,
      "metadata": {
        "id": "iR7CJOT8CzvC",
        "outputId": "333dd89d-8d5c-41c8-8d12-e970ba946a96",
        "colab": {
          "base_uri": "https://localhost:8080/"
        }
      },
      "outputs": [
        {
          "output_type": "stream",
          "name": "stdout",
          "text": [
            "9\n"
          ]
        }
      ],
      "source": [
        "rows_with_dash = (xlsx_data['Test rating'] == '-').sum()\n",
        "print(rows_with_dash)"
      ]
    },
    {
      "cell_type": "code",
      "execution_count": null,
      "metadata": {
        "id": "XQbzy8ONCzvC"
      },
      "outputs": [],
      "source": [
        "xlsx_data = xlsx_data[xlsx_data['Test rating'] != '-']"
      ]
    },
    {
      "cell_type": "code",
      "execution_count": null,
      "metadata": {
        "id": "EiqqgOkRCzvC",
        "outputId": "e849bc31-fa9d-4979-d49c-b0f9c136dc51",
        "colab": {
          "base_uri": "https://localhost:8080/"
        }
      },
      "outputs": [
        {
          "output_type": "stream",
          "name": "stdout",
          "text": [
            "0\n"
          ]
        }
      ],
      "source": [
        "rows_with_dash = (xlsx_data['Test rating'] == '-').sum()\n",
        "print(rows_with_dash)"
      ]
    },
    {
      "cell_type": "code",
      "execution_count": null,
      "metadata": {
        "id": "ROIxGDMGCzvD",
        "outputId": "d3f13e77-69c7-4ca8-c122-161ad187642a",
        "colab": {
          "base_uri": "https://localhost:8080/"
        }
      },
      "outputs": [
        {
          "output_type": "execute_result",
          "data": {
            "text/plain": [
              "0               4\n",
              "1               3\n",
              "2               4\n",
              "3               2\n",
              "4               8\n",
              "          ...    \n",
              "95           3.75\n",
              "97     Not Needed\n",
              "98              4\n",
              "99            NaN\n",
              "102           4.5\n",
              "Name: Test rating, Length: 92, dtype: object"
            ]
          },
          "metadata": {},
          "execution_count": 84
        }
      ],
      "source": [
        "xlsx_data['Test rating']"
      ]
    },
    {
      "cell_type": "code",
      "execution_count": null,
      "metadata": {
        "id": "FRhk-NTzCzvD",
        "outputId": "7b236e9d-3302-4529-e9f4-5546157155db",
        "colab": {
          "base_uri": "https://localhost:8080/"
        }
      },
      "outputs": [
        {
          "output_type": "execute_result",
          "data": {
            "text/plain": [
              "13"
            ]
          },
          "metadata": {},
          "execution_count": 85
        }
      ],
      "source": [
        "xlsx_data['Test rating'].isnull().sum()"
      ]
    },
    {
      "cell_type": "code",
      "execution_count": null,
      "metadata": {
        "id": "f-1vp2WsCzvE"
      },
      "outputs": [],
      "source": [
        "mode=xlsx_data['Test rating'].mode()"
      ]
    },
    {
      "cell_type": "code",
      "execution_count": null,
      "metadata": {
        "id": "voiOr1KVCzvE",
        "colab": {
          "base_uri": "https://localhost:8080/"
        },
        "outputId": "76debb0f-179e-42b2-c39f-c3a49f58ceca"
      },
      "outputs": [
        {
          "output_type": "stream",
          "name": "stderr",
          "text": [
            "<ipython-input-87-908d630b6b89>:1: SettingWithCopyWarning: \n",
            "A value is trying to be set on a copy of a slice from a DataFrame\n",
            "\n",
            "See the caveats in the documentation: https://pandas.pydata.org/pandas-docs/stable/user_guide/indexing.html#returning-a-view-versus-a-copy\n",
            "  xlsx_data['Test rating'].fillna(value=mode, inplace = True)\n"
          ]
        }
      ],
      "source": [
        "xlsx_data['Test rating'].fillna(value=mode, inplace = True)"
      ]
    },
    {
      "cell_type": "code",
      "execution_count": null,
      "metadata": {
        "id": "ZhNfG0RICzvE"
      },
      "outputs": [],
      "source": [
        "def apply_test_rating(level):\n",
        "    if pd.isna(level):\n",
        "        return level\n",
        "    elif isinstance(level, (int, float)):\n",
        "        return float(level)\n",
        "    elif \"Not Needed\" in level.lower() or \"Not yet\" in level.lower() or \"Na\" in level.lower():\n",
        "        return 0\n",
        "    else:\n",
        "        return 1"
      ]
    },
    {
      "cell_type": "code",
      "execution_count": null,
      "metadata": {
        "id": "-q5ulJxWCzvE",
        "colab": {
          "base_uri": "https://localhost:8080/"
        },
        "outputId": "c6f27ae7-b956-4873-b6ae-f992dd93b653"
      },
      "outputs": [
        {
          "output_type": "stream",
          "name": "stderr",
          "text": [
            "<ipython-input-89-132a3d4de5ac>:1: SettingWithCopyWarning: \n",
            "A value is trying to be set on a copy of a slice from a DataFrame.\n",
            "Try using .loc[row_indexer,col_indexer] = value instead\n",
            "\n",
            "See the caveats in the documentation: https://pandas.pydata.org/pandas-docs/stable/user_guide/indexing.html#returning-a-view-versus-a-copy\n",
            "  xlsx_data['Test rating'] = xlsx_data['Test rating'].apply(apply_test_rating)\n"
          ]
        }
      ],
      "source": [
        "xlsx_data['Test rating'] = xlsx_data['Test rating'].apply(apply_test_rating)"
      ]
    },
    {
      "cell_type": "code",
      "execution_count": null,
      "metadata": {
        "id": "EBP-qnw3CzvF",
        "outputId": "0d5ac3d5-dccd-48e8-9694-829efee98d71",
        "colab": {
          "base_uri": "https://localhost:8080/"
        }
      },
      "outputs": [
        {
          "output_type": "execute_result",
          "data": {
            "text/plain": [
              "0      4.00\n",
              "1      3.00\n",
              "2      4.00\n",
              "3      2.00\n",
              "4      8.00\n",
              "       ... \n",
              "95     3.75\n",
              "97     1.00\n",
              "98     4.00\n",
              "99      NaN\n",
              "102    4.50\n",
              "Name: Test rating, Length: 92, dtype: float64"
            ]
          },
          "metadata": {},
          "execution_count": 90
        }
      ],
      "source": [
        "xlsx_data['Test rating']"
      ]
    },
    {
      "cell_type": "code",
      "execution_count": null,
      "metadata": {
        "id": "WG8NyMUhCzvF",
        "outputId": "433654d5-b421-42be-da91-17aae34c4687",
        "colab": {
          "base_uri": "https://localhost:8080/"
        }
      },
      "outputs": [
        {
          "output_type": "execute_result",
          "data": {
            "text/plain": [
              "0        6\n",
              "1        4\n",
              "2        8\n",
              "3        1\n",
              "4        7\n",
              "      ... \n",
              "95       3\n",
              "97     3.5\n",
              "98     3.5\n",
              "99     NaN\n",
              "102      3\n",
              "Name: Tech Rating, Length: 92, dtype: object"
            ]
          },
          "metadata": {},
          "execution_count": 91
        }
      ],
      "source": [
        "xlsx_data['Tech Rating']"
      ]
    },
    {
      "cell_type": "code",
      "execution_count": null,
      "metadata": {
        "id": "BFqPGkOqCzvF",
        "outputId": "bf52e8ac-a935-4de3-fac2-35eaa1cb6507",
        "colab": {
          "base_uri": "https://localhost:8080/"
        }
      },
      "outputs": [
        {
          "output_type": "stream",
          "name": "stdout",
          "text": [
            "0\n"
          ]
        }
      ],
      "source": [
        "rows_with_dash = (xlsx_data['Tech Rating'] == '-').sum()\n",
        "print(rows_with_dash)"
      ]
    },
    {
      "cell_type": "code",
      "execution_count": null,
      "metadata": {
        "id": "xQTe0VkNCzvG",
        "outputId": "77a87b1b-057f-4fed-fd07-a11777441798",
        "colab": {
          "base_uri": "https://localhost:8080/"
        }
      },
      "outputs": [
        {
          "output_type": "stream",
          "name": "stdout",
          "text": [
            "1\n"
          ]
        }
      ],
      "source": [
        "rows_with_dash = (xlsx_data['Overall Rating Ozone 1'] == '-').sum()\n",
        "print(rows_with_dash)"
      ]
    },
    {
      "cell_type": "code",
      "execution_count": null,
      "metadata": {
        "id": "C9U7eaxXCzvG"
      },
      "outputs": [],
      "source": [
        "xlsx_data = xlsx_data[xlsx_data['Overall Rating Ozone 1'] != '-']"
      ]
    },
    {
      "cell_type": "code",
      "execution_count": null,
      "metadata": {
        "id": "gSSAFl9wCzvG",
        "outputId": "26be7590-c74c-4bc3-9f53-ac524748fe4f",
        "colab": {
          "base_uri": "https://localhost:8080/"
        }
      },
      "outputs": [
        {
          "output_type": "stream",
          "name": "stdout",
          "text": [
            "0\n"
          ]
        }
      ],
      "source": [
        "rows_with_dash = (xlsx_data['Overall Rating Ozone 1'] == '-').sum()\n",
        "print(rows_with_dash)"
      ]
    },
    {
      "cell_type": "code",
      "execution_count": null,
      "metadata": {
        "id": "TX6DyxgVCzvH",
        "outputId": "b623a0e8-b114-4ca4-ada7-96d0a6bc3413",
        "colab": {
          "base_uri": "https://localhost:8080/"
        }
      },
      "outputs": [
        {
          "output_type": "execute_result",
          "data": {
            "text/plain": [
              "0        7\n",
              "1        4\n",
              "2        5\n",
              "3        2\n",
              "4        8\n",
              "      ... \n",
              "95       3\n",
              "97     3.5\n",
              "98     3.5\n",
              "99     NaN\n",
              "102      4\n",
              "Name: Overall Rating Ozone 1, Length: 91, dtype: object"
            ]
          },
          "metadata": {},
          "execution_count": 96
        }
      ],
      "source": [
        "xlsx_data['Overall Rating Ozone 1']"
      ]
    },
    {
      "cell_type": "code",
      "execution_count": null,
      "metadata": {
        "id": "AxamiPSBCzvI"
      },
      "outputs": [],
      "source": [
        "xlsx_data['Overall Rating Ozone 1'] = xlsx_data['Overall Rating Ozone 1'].astype(str).str.extract(r'(\\d+\\.\\d+)', expand=False).astype(float)\n"
      ]
    },
    {
      "cell_type": "code",
      "execution_count": null,
      "metadata": {
        "id": "0tccJkSICzvJ",
        "outputId": "ac89163c-d04b-4f9a-f7a4-66f860b1e03a",
        "colab": {
          "base_uri": "https://localhost:8080/"
        }
      },
      "outputs": [
        {
          "output_type": "execute_result",
          "data": {
            "text/plain": [
              "dtype('float64')"
            ]
          },
          "metadata": {},
          "execution_count": 99
        }
      ],
      "source": [
        "xlsx_data['Overall Rating Ozone 1'].dtypes"
      ]
    },
    {
      "cell_type": "code",
      "execution_count": null,
      "metadata": {
        "id": "31tzwNrPCzvK"
      },
      "outputs": [],
      "source": [
        "xlsx_data['Tech Rating'] = xlsx_data['Tech Rating'].astype(str).str.extract(r'(\\d+\\.\\d+)', expand=False).astype(float)\n"
      ]
    },
    {
      "cell_type": "code",
      "execution_count": null,
      "metadata": {
        "id": "ycio8u4pCzvL",
        "outputId": "aaaaa09f-d365-41fe-e80f-4e65815012d7",
        "colab": {
          "base_uri": "https://localhost:8080/"
        }
      },
      "outputs": [
        {
          "output_type": "execute_result",
          "data": {
            "text/plain": [
              "dtype('float64')"
            ]
          },
          "metadata": {},
          "execution_count": 102
        }
      ],
      "source": [
        "xlsx_data['Tech Rating'].dtypes"
      ]
    },
    {
      "cell_type": "code",
      "execution_count": null,
      "metadata": {
        "id": "KSnZT4m7CzvN",
        "outputId": "e9276137-41ff-457a-c039-6c0374b75f36",
        "colab": {
          "base_uri": "https://localhost:8080/"
        }
      },
      "outputs": [
        {
          "output_type": "stream",
          "name": "stdout",
          "text": [
            "Ozone 1 (H/M/L/NJ)                             float64\n",
            "Ozone 2 (H/M/L/NJ)                             float64\n",
            "Eligible Companies > 5 (Yes/No)                 object\n",
            "Ozones 2 Remarks                                object\n",
            "College Name                                    object\n",
            "College (Pivot)                                 object\n",
            "Course                                          object\n",
            "Course (Pivot)                                  object\n",
            "Branch/Department                               object\n",
            "Analytics/Consultancy/DS                        object\n",
            "Applied Financial Aid                           object\n",
            "Attending Group Sessions                        object\n",
            "Joined personal Whatsapp grp of Study Grp       object\n",
            "Aptitude Prepared ever?                         object\n",
            "ML/AI/Data analytics/science prepared ever?     object\n",
            "Internships/Working?                            object\n",
            "Summer Intern is there? (Y/N)                   object\n",
            "Cases/guestimates experince?                   float64\n",
            "PORs                                           float64\n",
            "Prepared Resume                                float64\n",
            "CGPA?                                          float64\n",
            "CAT/MBA/GMAT Prep                               object\n",
            "Communication skills rating                    float64\n",
            "Test rating                                    float64\n",
            "Tech Rating                                    float64\n",
            "Overall Rating Ozone 1                         float64\n",
            "Ozones 1 Remarks                                object\n",
            "OOzone 1 (H/M/L/NJ)                            float64\n",
            "python                                           int64\n",
            "sql                                              int64\n",
            "ml                                               int64\n",
            "stats                                            int64\n",
            "dsa                                              int64\n",
            "c++                                              int64\n",
            "excel                                            int64\n",
            "Intern                                           int64\n",
            "Intern2                                          int64\n",
            "dtype: object\n"
          ]
        }
      ],
      "source": [
        "column_data_types = xlsx_data.dtypes\n",
        "print(column_data_types)"
      ]
    },
    {
      "cell_type": "code",
      "execution_count": null,
      "metadata": {
        "id": "Iiq8tO-RCzvO"
      },
      "outputs": [],
      "source": [
        "xlsx_data.to_excel('output.xlsx', index=False)\n"
      ]
    }
  ],
  "metadata": {
    "colab": {
      "provenance": []
    },
    "kernelspec": {
      "display_name": "Python 3 (ipykernel)",
      "language": "python",
      "name": "python3"
    },
    "language_info": {
      "codemirror_mode": {
        "name": "ipython",
        "version": 3
      },
      "file_extension": ".py",
      "mimetype": "text/x-python",
      "name": "python",
      "nbconvert_exporter": "python",
      "pygments_lexer": "ipython3",
      "version": "3.10.9"
    }
  },
  "nbformat": 4,
  "nbformat_minor": 0
}